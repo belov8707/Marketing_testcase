{
 "cells": [
  {
   "cell_type": "code",
   "execution_count": 1,
   "id": "fa5ca0d1",
   "metadata": {},
   "outputs": [
    {
     "name": "stdout",
     "output_type": "stream",
     "text": [
      "time: 0 ns (started: 2024-02-14 20:07:27 +02:00)\n"
     ]
    }
   ],
   "source": [
    "import pandas as pd\n",
    "import numpy as np\n",
    "import seaborn as sns\n",
    "import matplotlib.pyplot as plt\n",
    "from statsmodels.tsa.holtwinters import SimpleExpSmoothing, Holt\n",
    "import altair as alt\n",
    "from scipy import stats\n",
    "\n",
    "import scipy.stats as stats\n",
    "import statsmodels.api as sm\n",
    "\n",
    "from sklearn.model_selection import train_test_split\n",
    "from sklearn import metrics \n",
    "from lightgbm import LGBMRegressor\n",
    "from xgboost.sklearn import XGBRegressor\n",
    "from sklearn.metrics import mean_absolute_error,  mean_absolute_percentage_error, mean_squared_error, r2_score\n",
    "import xgboost\n",
    "import optuna\n",
    "from datetime import datetime, timedelta, date\n",
    "import datetime\n",
    "from pandas.api.types import is_string_dtype\n",
    "from pandas.api.types import is_numeric_dtype\n",
    "import itertools\n",
    "\n",
    "from multiprocessing.dummy import Pool as ThreadPool\n",
    "\n",
    "from pandas.tseries.offsets import MonthEnd\n",
    "\n",
    "from statsmodels.tsa.stattools import adfuller\n",
    "from statsmodels.tsa.stattools import acf\n",
    "from statsmodels.tsa.stattools import pacf\n",
    "from statsmodels.tsa.arima_model import ARIMA\n",
    "\n",
    "from sklearn.preprocessing import MinMaxScaler, StandardScaler\n",
    "\n",
    "import warnings\n",
    "warnings.filterwarnings('ignore')\n",
    "\n",
    "%load_ext autotime"
   ]
  },
  {
   "cell_type": "code",
   "execution_count": 2,
   "id": "5906f82d",
   "metadata": {},
   "outputs": [
    {
     "name": "stdout",
     "output_type": "stream",
     "text": [
      "time: 0 ns (started: 2024-02-14 20:07:27 +02:00)\n"
     ]
    }
   ],
   "source": [
    "#displaying maximun rows and cloumns \n",
    "\n",
    "# display all columns of the dataframe\n",
    "pd.options.display.max_columns = None\n",
    "\n",
    "# display all rows of the dataframe\n",
    "pd.options.display.max_rows = None\n",
    "\n",
    "# Set the plot size\n",
    "plt.rcParams['figure.figsize'] = [12, 8]  "
   ]
  },
  {
   "cell_type": "code",
   "execution_count": 3,
   "id": "b42de8ee",
   "metadata": {},
   "outputs": [
    {
     "name": "stdout",
     "output_type": "stream",
     "text": [
      "time: 657 ms (started: 2024-02-14 20:07:29 +02:00)\n"
     ]
    }
   ],
   "source": [
    "# read data\n",
    "\n",
    "path_campaign = r\"\\Users\\Oleksandr.Bielov\\Desktop\\\\Marketing_campaign\\\\marketing_campaign_start_dataset.csv\"\n",
    "path_country_add = r\"/Users/Oleksandr.Bielov/Desktop//Marketing_campaign/addition_info.xlsx\"\n",
    "path_product = r\"/Users/Oleksandr.Bielov/Desktop//Marketing_campaign/dimProduct.xlsx\"\n",
    "path_coef = r\"/Users/Oleksandr.Bielov/Desktop//Marketing_campaign/dimCoef.xlsx\"\n",
    "\n",
    "\n",
    "df = pd.read_csv(path_campaign)\n",
    "df_country = pd.read_excel(path_country_add)\n",
    "df_product = pd.read_excel(path_product)\n",
    "df_coef = pd.read_excel(path_coef)\n"
   ]
  },
  {
   "cell_type": "code",
   "execution_count": 4,
   "id": "5df579c0",
   "metadata": {},
   "outputs": [
    {
     "data": {
      "text/html": [
       "<div>\n",
       "<style scoped>\n",
       "    .dataframe tbody tr th:only-of-type {\n",
       "        vertical-align: middle;\n",
       "    }\n",
       "\n",
       "    .dataframe tbody tr th {\n",
       "        vertical-align: top;\n",
       "    }\n",
       "\n",
       "    .dataframe thead th {\n",
       "        text-align: right;\n",
       "    }\n",
       "</style>\n",
       "<table border=\"1\" class=\"dataframe\">\n",
       "  <thead>\n",
       "    <tr style=\"text-align: right;\">\n",
       "      <th></th>\n",
       "      <th>Campaign_ID</th>\n",
       "      <th>Company</th>\n",
       "      <th>Campaign_Type</th>\n",
       "      <th>Target_Audience</th>\n",
       "      <th>Duration</th>\n",
       "      <th>Channel_Used</th>\n",
       "      <th>Conversion_Rate</th>\n",
       "      <th>Acquisition_Cost</th>\n",
       "      <th>ROI</th>\n",
       "      <th>Location</th>\n",
       "      <th>Language</th>\n",
       "      <th>Clicks</th>\n",
       "      <th>Impressions</th>\n",
       "      <th>Engagement_Score</th>\n",
       "      <th>Customer_Segment</th>\n",
       "      <th>Date</th>\n",
       "    </tr>\n",
       "  </thead>\n",
       "  <tbody>\n",
       "    <tr>\n",
       "      <th>0</th>\n",
       "      <td>1</td>\n",
       "      <td>Innovate Industries</td>\n",
       "      <td>Email</td>\n",
       "      <td>Men 18-24</td>\n",
       "      <td>30 days</td>\n",
       "      <td>Google Ads</td>\n",
       "      <td>0.04</td>\n",
       "      <td>$16,174.00</td>\n",
       "      <td>6.29</td>\n",
       "      <td>Chicago</td>\n",
       "      <td>Spanish</td>\n",
       "      <td>506</td>\n",
       "      <td>1922</td>\n",
       "      <td>6</td>\n",
       "      <td>Health &amp; Wellness</td>\n",
       "      <td>2021-01-01</td>\n",
       "    </tr>\n",
       "    <tr>\n",
       "      <th>1</th>\n",
       "      <td>2</td>\n",
       "      <td>NexGen Systems</td>\n",
       "      <td>Email</td>\n",
       "      <td>Women 35-44</td>\n",
       "      <td>60 days</td>\n",
       "      <td>Google Ads</td>\n",
       "      <td>0.12</td>\n",
       "      <td>$11,566.00</td>\n",
       "      <td>5.61</td>\n",
       "      <td>New York</td>\n",
       "      <td>German</td>\n",
       "      <td>116</td>\n",
       "      <td>7523</td>\n",
       "      <td>7</td>\n",
       "      <td>Fashionistas</td>\n",
       "      <td>2021-01-02</td>\n",
       "    </tr>\n",
       "    <tr>\n",
       "      <th>2</th>\n",
       "      <td>3</td>\n",
       "      <td>Alpha Innovations</td>\n",
       "      <td>Influencer</td>\n",
       "      <td>Men 25-34</td>\n",
       "      <td>30 days</td>\n",
       "      <td>YouTube</td>\n",
       "      <td>0.07</td>\n",
       "      <td>$10,200.00</td>\n",
       "      <td>7.18</td>\n",
       "      <td>Los Angeles</td>\n",
       "      <td>French</td>\n",
       "      <td>584</td>\n",
       "      <td>7698</td>\n",
       "      <td>1</td>\n",
       "      <td>Outdoor Adventurers</td>\n",
       "      <td>2021-01-03</td>\n",
       "    </tr>\n",
       "    <tr>\n",
       "      <th>3</th>\n",
       "      <td>4</td>\n",
       "      <td>DataTech Solutions</td>\n",
       "      <td>Display</td>\n",
       "      <td>All Ages</td>\n",
       "      <td>60 days</td>\n",
       "      <td>YouTube</td>\n",
       "      <td>0.11</td>\n",
       "      <td>$12,724.00</td>\n",
       "      <td>5.55</td>\n",
       "      <td>Miami</td>\n",
       "      <td>Mandarin</td>\n",
       "      <td>217</td>\n",
       "      <td>1820</td>\n",
       "      <td>7</td>\n",
       "      <td>Health &amp; Wellness</td>\n",
       "      <td>2021-01-04</td>\n",
       "    </tr>\n",
       "    <tr>\n",
       "      <th>4</th>\n",
       "      <td>5</td>\n",
       "      <td>NexGen Systems</td>\n",
       "      <td>Email</td>\n",
       "      <td>Men 25-34</td>\n",
       "      <td>15 days</td>\n",
       "      <td>YouTube</td>\n",
       "      <td>0.05</td>\n",
       "      <td>$16,452.00</td>\n",
       "      <td>6.50</td>\n",
       "      <td>Los Angeles</td>\n",
       "      <td>Mandarin</td>\n",
       "      <td>379</td>\n",
       "      <td>4201</td>\n",
       "      <td>3</td>\n",
       "      <td>Health &amp; Wellness</td>\n",
       "      <td>2021-01-05</td>\n",
       "    </tr>\n",
       "  </tbody>\n",
       "</table>\n",
       "</div>"
      ],
      "text/plain": [
       "   Campaign_ID              Company Campaign_Type Target_Audience Duration  \\\n",
       "0            1  Innovate Industries         Email       Men 18-24  30 days   \n",
       "1            2       NexGen Systems         Email     Women 35-44  60 days   \n",
       "2            3    Alpha Innovations    Influencer       Men 25-34  30 days   \n",
       "3            4   DataTech Solutions       Display        All Ages  60 days   \n",
       "4            5       NexGen Systems         Email       Men 25-34  15 days   \n",
       "\n",
       "  Channel_Used  Conversion_Rate Acquisition_Cost   ROI     Location  Language  \\\n",
       "0   Google Ads             0.04       $16,174.00  6.29      Chicago   Spanish   \n",
       "1   Google Ads             0.12       $11,566.00  5.61     New York    German   \n",
       "2      YouTube             0.07       $10,200.00  7.18  Los Angeles    French   \n",
       "3      YouTube             0.11       $12,724.00  5.55        Miami  Mandarin   \n",
       "4      YouTube             0.05       $16,452.00  6.50  Los Angeles  Mandarin   \n",
       "\n",
       "   Clicks  Impressions  Engagement_Score     Customer_Segment        Date  \n",
       "0     506         1922                 6    Health & Wellness  2021-01-01  \n",
       "1     116         7523                 7         Fashionistas  2021-01-02  \n",
       "2     584         7698                 1  Outdoor Adventurers  2021-01-03  \n",
       "3     217         1820                 7    Health & Wellness  2021-01-04  \n",
       "4     379         4201                 3    Health & Wellness  2021-01-05  "
      ]
     },
     "execution_count": 4,
     "metadata": {},
     "output_type": "execute_result"
    },
    {
     "name": "stdout",
     "output_type": "stream",
     "text": [
      "time: 15 ms (started: 2024-02-14 20:07:30 +02:00)\n"
     ]
    }
   ],
   "source": [
    "# Display the first 5 rows of the dataframe\n",
    "df.head(5)"
   ]
  },
  {
   "cell_type": "code",
   "execution_count": 5,
   "id": "b6debe93",
   "metadata": {},
   "outputs": [
    {
     "data": {
      "text/plain": [
       "(200000, 16)"
      ]
     },
     "execution_count": 5,
     "metadata": {},
     "output_type": "execute_result"
    },
    {
     "name": "stdout",
     "output_type": "stream",
     "text": [
      "time: 0 ns (started: 2024-02-14 20:07:31 +02:00)\n"
     ]
    }
   ],
   "source": [
    "# no of rows and columns \n",
    "df.shape"
   ]
  },
  {
   "cell_type": "code",
   "execution_count": 6,
   "id": "ab83236b",
   "metadata": {},
   "outputs": [
    {
     "data": {
      "text/plain": [
       "Index(['Campaign_ID', 'Company', 'Campaign_Type', 'Target_Audience',\n",
       "       'Duration', 'Channel_Used', 'Conversion_Rate', 'Acquisition_Cost',\n",
       "       'ROI', 'Location', 'Language', 'Clicks', 'Impressions',\n",
       "       'Engagement_Score', 'Customer_Segment', 'Date'],\n",
       "      dtype='object')"
      ]
     },
     "execution_count": 6,
     "metadata": {},
     "output_type": "execute_result"
    },
    {
     "name": "stdout",
     "output_type": "stream",
     "text": [
      "time: 0 ns (started: 2024-02-14 20:07:32 +02:00)\n"
     ]
    }
   ],
   "source": [
    "#clumns in dataset \n",
    "df.columns"
   ]
  },
  {
   "cell_type": "code",
   "execution_count": 7,
   "id": "a3c08f60",
   "metadata": {},
   "outputs": [
    {
     "name": "stdout",
     "output_type": "stream",
     "text": [
      "<class 'pandas.core.frame.DataFrame'>\n",
      "RangeIndex: 30 entries, 0 to 29\n",
      "Data columns (total 7 columns):\n",
      " #   Column              Non-Null Count  Dtype  \n",
      "---  ------              --------------  -----  \n",
      " 0   Country             30 non-null     object \n",
      " 1   Campaign_Channel    30 non-null     object \n",
      " 2   Campaign_cost_coef  30 non-null     float64\n",
      " 3   Impressions_coef    30 non-null     float64\n",
      " 4   Clicks_coef         30 non-null     float64\n",
      " 5   Conversion_coef     30 non-null     float64\n",
      " 6   Engagement_coef     30 non-null     float64\n",
      "dtypes: float64(5), object(2)\n",
      "memory usage: 1.8+ KB\n",
      "time: 15 ms (started: 2024-02-14 20:07:33 +02:00)\n"
     ]
    }
   ],
   "source": [
    "#type for each columns in datasets\n",
    "df_coef.info()"
   ]
  },
  {
   "cell_type": "code",
   "execution_count": 8,
   "id": "b611ddd1",
   "metadata": {},
   "outputs": [
    {
     "name": "stdout",
     "output_type": "stream",
     "text": [
      "time: 0 ns (started: 2024-02-14 20:07:34 +02:00)\n"
     ]
    }
   ],
   "source": [
    "# rename column in df_product for correct join\n",
    "df_product = df_product.rename(columns={'Product ID': 'Product_ID'})"
   ]
  },
  {
   "cell_type": "code",
   "execution_count": 9,
   "id": "a37acf99",
   "metadata": {},
   "outputs": [
    {
     "data": {
      "text/html": [
       "<div>\n",
       "<style scoped>\n",
       "    .dataframe tbody tr th:only-of-type {\n",
       "        vertical-align: middle;\n",
       "    }\n",
       "\n",
       "    .dataframe tbody tr th {\n",
       "        vertical-align: top;\n",
       "    }\n",
       "\n",
       "    .dataframe thead th {\n",
       "        text-align: right;\n",
       "    }\n",
       "</style>\n",
       "<table border=\"1\" class=\"dataframe\">\n",
       "  <thead>\n",
       "    <tr style=\"text-align: right;\">\n",
       "      <th></th>\n",
       "      <th>Total</th>\n",
       "      <th>Percentage of Missing Values</th>\n",
       "      <th>Type</th>\n",
       "    </tr>\n",
       "  </thead>\n",
       "  <tbody>\n",
       "    <tr>\n",
       "      <th>Campaign_ID</th>\n",
       "      <td>0</td>\n",
       "      <td>0.0</td>\n",
       "      <td>int64</td>\n",
       "    </tr>\n",
       "    <tr>\n",
       "      <th>Company</th>\n",
       "      <td>0</td>\n",
       "      <td>0.0</td>\n",
       "      <td>object</td>\n",
       "    </tr>\n",
       "    <tr>\n",
       "      <th>Campaign_Type</th>\n",
       "      <td>0</td>\n",
       "      <td>0.0</td>\n",
       "      <td>object</td>\n",
       "    </tr>\n",
       "    <tr>\n",
       "      <th>Target_Audience</th>\n",
       "      <td>0</td>\n",
       "      <td>0.0</td>\n",
       "      <td>object</td>\n",
       "    </tr>\n",
       "    <tr>\n",
       "      <th>Duration</th>\n",
       "      <td>0</td>\n",
       "      <td>0.0</td>\n",
       "      <td>object</td>\n",
       "    </tr>\n",
       "    <tr>\n",
       "      <th>Channel_Used</th>\n",
       "      <td>0</td>\n",
       "      <td>0.0</td>\n",
       "      <td>object</td>\n",
       "    </tr>\n",
       "    <tr>\n",
       "      <th>Conversion_Rate</th>\n",
       "      <td>0</td>\n",
       "      <td>0.0</td>\n",
       "      <td>float64</td>\n",
       "    </tr>\n",
       "    <tr>\n",
       "      <th>Acquisition_Cost</th>\n",
       "      <td>0</td>\n",
       "      <td>0.0</td>\n",
       "      <td>object</td>\n",
       "    </tr>\n",
       "    <tr>\n",
       "      <th>ROI</th>\n",
       "      <td>0</td>\n",
       "      <td>0.0</td>\n",
       "      <td>float64</td>\n",
       "    </tr>\n",
       "    <tr>\n",
       "      <th>Location</th>\n",
       "      <td>0</td>\n",
       "      <td>0.0</td>\n",
       "      <td>object</td>\n",
       "    </tr>\n",
       "    <tr>\n",
       "      <th>Language</th>\n",
       "      <td>0</td>\n",
       "      <td>0.0</td>\n",
       "      <td>object</td>\n",
       "    </tr>\n",
       "    <tr>\n",
       "      <th>Clicks</th>\n",
       "      <td>0</td>\n",
       "      <td>0.0</td>\n",
       "      <td>int64</td>\n",
       "    </tr>\n",
       "    <tr>\n",
       "      <th>Impressions</th>\n",
       "      <td>0</td>\n",
       "      <td>0.0</td>\n",
       "      <td>int64</td>\n",
       "    </tr>\n",
       "    <tr>\n",
       "      <th>Engagement_Score</th>\n",
       "      <td>0</td>\n",
       "      <td>0.0</td>\n",
       "      <td>int64</td>\n",
       "    </tr>\n",
       "    <tr>\n",
       "      <th>Customer_Segment</th>\n",
       "      <td>0</td>\n",
       "      <td>0.0</td>\n",
       "      <td>object</td>\n",
       "    </tr>\n",
       "    <tr>\n",
       "      <th>Date</th>\n",
       "      <td>0</td>\n",
       "      <td>0.0</td>\n",
       "      <td>object</td>\n",
       "    </tr>\n",
       "  </tbody>\n",
       "</table>\n",
       "</div>"
      ],
      "text/plain": [
       "                  Total  Percentage of Missing Values     Type\n",
       "Campaign_ID           0                           0.0    int64\n",
       "Company               0                           0.0   object\n",
       "Campaign_Type         0                           0.0   object\n",
       "Target_Audience       0                           0.0   object\n",
       "Duration              0                           0.0   object\n",
       "Channel_Used          0                           0.0   object\n",
       "Conversion_Rate       0                           0.0  float64\n",
       "Acquisition_Cost      0                           0.0   object\n",
       "ROI                   0                           0.0  float64\n",
       "Location              0                           0.0   object\n",
       "Language              0                           0.0   object\n",
       "Clicks                0                           0.0    int64\n",
       "Impressions           0                           0.0    int64\n",
       "Engagement_Score      0                           0.0    int64\n",
       "Customer_Segment      0                           0.0   object\n",
       "Date                  0                           0.0   object"
      ]
     },
     "execution_count": 9,
     "metadata": {},
     "output_type": "execute_result"
    },
    {
     "name": "stdout",
     "output_type": "stream",
     "text": [
      "time: 125 ms (started: 2024-02-14 20:07:35 +02:00)\n"
     ]
    }
   ],
   "source": [
    "# Calculate the total count of missing values for each variable\n",
    "total_missing = df.isnull().sum()\n",
    "\n",
    "# Calculate the percentage of missing values for each variable\n",
    "percent_missing = (total_missing * 100) / df.isnull().count()\n",
    "percent_missing = percent_missing.round(decimals=0)  # Round the percentage values\n",
    "\n",
    "# Create a DataFrame to store the missing data information\n",
    "missing_data = pd.DataFrame({\n",
    "    'Total': total_missing,\n",
    "    'Percentage of Missing Values': percent_missing,\n",
    "    'Type': df.dtypes\n",
    "})\n",
    "\n",
    "# Sort the DataFrame based on the total count of missing values in descending order\n",
    "missing_data = missing_data.sort_values(by='Total', ascending=False)\n",
    "\n",
    "missing_data"
   ]
  },
  {
   "cell_type": "code",
   "execution_count": 10,
   "id": "19bf552a",
   "metadata": {},
   "outputs": [
    {
     "name": "stdout",
     "output_type": "stream",
     "text": [
      "time: 781 ms (started: 2024-02-14 20:07:36 +02:00)\n"
     ]
    }
   ],
   "source": [
    "# Remove dollar sign and commas from 'Acquisition_Cost' column and convert it to float\n",
    "df['Acquisition_Cost'] = df['Acquisition_Cost'].str.replace('$', '').str.replace(',', '').astype(float)\n",
    "\n",
    "# Convert 'Duration' column to numeric by extracting the number of days\n",
    "df['Duration'] = df['Duration'].str.extract('(\\d+)').astype(int)\n",
    "\n",
    "# Convert 'Date' column to datetime format\n",
    "df['Date'] = pd.to_datetime(df['Date'], errors='coerce')\n",
    "\n",
    "# Convert 'Campaign_Type' column to categorical\n",
    "df['Company'] = df['Company'].astype('category')\n",
    "\n",
    "# Convert 'Target_Audience' column to categorical\n",
    "df['Target_Audience'] = df['Target_Audience'].astype('category')\n",
    "\n",
    "# Convert 'Channel_Used' column to categorical\n",
    "df['Channel_Used'] = df['Channel_Used'].astype('category')\n",
    "\n",
    "# Convert 'Language' column to categorical\n",
    "df['Language'] = df['Language'].astype('category')\n",
    "\n",
    "# Convert 'Customer_Segment' column to categorical\n",
    "df['Customer_Segment'] = df['Customer_Segment'].astype('category')"
   ]
  },
  {
   "cell_type": "code",
   "execution_count": 11,
   "id": "339317a2",
   "metadata": {},
   "outputs": [
    {
     "data": {
      "text/plain": [
       "<seaborn.axisgrid.FacetGrid at 0x26c4fa7d760>"
      ]
     },
     "execution_count": 11,
     "metadata": {},
     "output_type": "execute_result"
    },
    {
     "data": {
      "image/png": "[encoded data removed]",
      "text/plain": [
       "<Figure size 360x360 with 1 Axes>"
      ]
     },
     "metadata": {
      "needs_background": "light"
     },
     "output_type": "display_data"
    },
    {
     "name": "stdout",
     "output_type": "stream",
     "text": [
      "time: 765 ms (started: 2024-02-14 20:07:37 +02:00)\n"
     ]
    }
   ],
   "source": [
    "# распределение цен \"price\"\n",
    "sns.displot(df[\"Clicks\"], kde=True)"
   ]
  },
  {
   "cell_type": "code",
   "execution_count": 12,
   "id": "734c3330",
   "metadata": {},
   "outputs": [
    {
     "data": {
      "image/png": "[encoded data removed]",
      "text/plain": [
       "<Figure size 360x360 with 1 Axes>"
      ]
     },
     "metadata": {
      "needs_background": "light"
     },
     "output_type": "display_data"
    },
    {
     "data": {
      "image/png": "[encoded data removed]",
      "text/plain": [
       "<Figure size 360x360 with 1 Axes>"
      ]
     },
     "metadata": {
      "needs_background": "light"
     },
     "output_type": "display_data"
    },
    {
     "data": {
      "image/png": "[encoded data removed]",
      "text/plain": [
       "<Figure size 360x360 with 1 Axes>"
      ]
     },
     "metadata": {
      "needs_background": "light"
     },
     "output_type": "display_data"
    },
    {
     "data": {
      "image/png": "[encoded data removed]",
      "text/plain": [
       "<Figure size 360x360 with 1 Axes>"
      ]
     },
     "metadata": {
      "needs_background": "light"
     },
     "output_type": "display_data"
    },
    {
     "data": {
      "image/png": "[encoded data removed]",
      "text/plain": [
       "<Figure size 360x360 with 1 Axes>"
      ]
     },
     "metadata": {
      "needs_background": "light"
     },
     "output_type": "display_data"
    },
    {
     "data": {
      "image/png": "[encoded data removed]",
      "text/plain": [
       "<Figure size 360x360 with 1 Axes>"
      ]
     },
     "metadata": {
      "needs_background": "light"
     },
     "output_type": "display_data"
    },
    {
     "data": {
      "image/png": "[encoded data removed]",
      "text/plain": [
       "<Figure size 360x360 with 1 Axes>"
      ]
     },
     "metadata": {
      "needs_background": "light"
     },
     "output_type": "display_data"
    },
    {
     "data": {
      "image/png": "[encoded data removed]",
      "text/plain": [
       "<Figure size 360x360 with 1 Axes>"
      ]
     },
     "metadata": {
      "needs_background": "light"
     },
     "output_type": "display_data"
    },
    {
     "data": {
      "image/png": "[encoded data removed]",
      "text/plain": [
       "<Figure size 360x360 with 1 Axes>"
      ]
     },
     "metadata": {
      "needs_background": "light"
     },
     "output_type": "display_data"
    },
    {
     "data": {
      "image/png": "[encoded data removed]",
      "text/plain": [
       "<Figure size 360x360 with 1 Axes>"
      ]
     },
     "metadata": {
      "needs_background": "light"
     },
     "output_type": "display_data"
    },
    {
     "data": {
      "image/png": "[encoded data removed]",
      "text/plain": [
       "<Figure size 360x360 with 1 Axes>"
      ]
     },
     "metadata": {
      "needs_background": "light"
     },
     "output_type": "display_data"
    },
    {
     "data": {
      "image/png": "[encoded data removed]",
      "text/plain": [
       "<Figure size 360x360 with 1 Axes>"
      ]
     },
     "metadata": {
      "needs_background": "light"
     },
     "output_type": "display_data"
    },
    {
     "data": {
      "image/png": "[encoded data removed]",
      "text/plain": [
       "<Figure size 360x360 with 1 Axes>"
      ]
     },
     "metadata": {
      "needs_background": "light"
     },
     "output_type": "display_data"
    },
    {
     "data": {
      "image/png": "[encoded data removed]",
      "text/plain": [
       "<Figure size 360x360 with 1 Axes>"
      ]
     },
     "metadata": {
      "needs_background": "light"
     },
     "output_type": "display_data"
    },
    {
     "data": {
      "image/png": "[encoded data removed]",
      "text/plain": [
       "<Figure size 360x360 with 1 Axes>"
      ]
     },
     "metadata": {
      "needs_background": "light"
     },
     "output_type": "display_data"
    },
    {
     "data": {
      "image/png": "[encoded data removed]",
      "text/plain": [
       "<Figure size 360x360 with 1 Axes>"
      ]
     },
     "metadata": {
      "needs_background": "light"
     },
     "output_type": "display_data"
    },
    {
     "name": "stdout",
     "output_type": "stream",
     "text": [
      "time: 5.02 s (started: 2024-02-14 20:07:39 +02:00)\n"
     ]
    }
   ],
   "source": [
    "for feature in df.columns:\n",
    "    sns.displot(df[feature])\n",
    "    plt.title('Histogram of {}'.format(feature))\n",
    "    plt.show()"
   ]
  },
  {
   "cell_type": "code",
   "execution_count": 13,
   "id": "a0162909",
   "metadata": {},
   "outputs": [
    {
     "name": "stdout",
     "output_type": "stream",
     "text": [
      "time: 16 ms (started: 2024-02-14 20:07:44 +02:00)\n"
     ]
    }
   ],
   "source": [
    "# create new dataset\n",
    "df_FE = df.drop(['Language'], axis=1)\n",
    "\n",
    "df_FE['Date'] = pd.to_datetime(df_FE['Date'], errors='coerce')"
   ]
  },
  {
   "cell_type": "code",
   "execution_count": 14,
   "id": "5c75125e",
   "metadata": {},
   "outputs": [
    {
     "name": "stdout",
     "output_type": "stream",
     "text": [
      "time: 78 ms (started: 2024-02-14 20:07:44 +02:00)\n"
     ]
    }
   ],
   "source": [
    "#normal distribution 'Clicks'\n",
    "# Fit a normal distribution to the data\n",
    "normal_distribution_Clicks = stats.norm(loc=df_FE['Clicks'].mean(), scale=df_FE['Clicks'].std())\n",
    "\n",
    "# Transform data to follow a normal distribution\n",
    "transformed_values_Clicks = normal_distribution_Clicks.ppf(stats.rankdata(df_FE['Clicks']) / (len(df_FE) + 1))\n",
    "\n",
    "# Shift the transformed values to ensure they are greater than 0\n",
    "min_value = transformed_values_Clicks.min()\n",
    "if min_value <= 0:\n",
    "    shift = 1 - min_value\n",
    "    transformed_values_Clicks += shift\n",
    "    \n",
    "#normal distribution 'Impressions'\n",
    "# Fit a normal distribution to the data\n",
    "normal_distribution_Impressions = stats.norm(loc=df_FE['Impressions'].mean(), scale=df_FE['Impressions'].std())\n",
    "\n",
    "# Transform data to follow a normal distribution\n",
    "transformed_values_Impressions = normal_distribution_Impressions.ppf(stats.rankdata(df_FE['Impressions']) / (len(df_FE) + 1))\n",
    "\n",
    "# Shift the transformed values to ensure they are greater than 0\n",
    "min_value_imp = transformed_values_Impressions.min()\n",
    "if min_value_imp <= 0:\n",
    "    shift_imp = 1 - min_value_imp\n",
    "    transformed_values_Impressions += shift_imp"
   ]
  },
  {
   "cell_type": "code",
   "execution_count": 15,
   "id": "dc2ff17b",
   "metadata": {},
   "outputs": [
    {
     "data": {
      "text/plain": [
       "<seaborn.axisgrid.FacetGrid at 0x26c568f3820>"
      ]
     },
     "execution_count": 15,
     "metadata": {},
     "output_type": "execute_result"
    },
    {
     "data": {
      "image/png": "[encoded data removed]",
      "text/plain": [
       "<Figure size 360x360 with 1 Axes>"
      ]
     },
     "metadata": {
      "needs_background": "light"
     },
     "output_type": "display_data"
    },
    {
     "name": "stdout",
     "output_type": "stream",
     "text": [
      "time: 1.09 s (started: 2024-02-14 20:07:44 +02:00)\n"
     ]
    }
   ],
   "source": [
    "sns.displot(transformed_values_Impressions, kde=True)"
   ]
  },
  {
   "cell_type": "code",
   "execution_count": 16,
   "id": "4f34bf8e",
   "metadata": {},
   "outputs": [
    {
     "name": "stdout",
     "output_type": "stream",
     "text": [
      "time: 16 ms (started: 2024-02-14 20:07:46 +02:00)\n"
     ]
    }
   ],
   "source": [
    "df_FE['Click_norm'] = transformed_values_Clicks.round(0)\n",
    "df_FE['Impressions_norm'] = transformed_values_Impressions.round(0)\n"
   ]
  },
  {
   "cell_type": "code",
   "execution_count": 17,
   "id": "ad105bd8",
   "metadata": {},
   "outputs": [
    {
     "name": "stdout",
     "output_type": "stream",
     "text": [
      "time: 0 ns (started: 2024-02-14 20:07:54 +02:00)\n"
     ]
    }
   ],
   "source": [
    "import calendar\n",
    "import random\n",
    "random.seed(1)\n",
    "\n",
    "# Define a function to change the date based on a condition (date + pd.offsets.MonthEnd(0)).day)\n",
    "def change_date(date):\n",
    "    if date.day <= 10:\n",
    "        return date.replace(year=2021, month = date.month, day = random.randint(1, calendar.monthrange(2021, date.month)[1]))\n",
    "    elif date.day > 10 and date.day <= 20:\n",
    "        return date.replace(year=2022, month = date.month, day = random.randint(1, calendar.monthrange(2022, date.month)[1]))\n",
    "    else: \n",
    "        return date.replace(year=2023, month = date.month, day = random.randint(1, calendar.monthrange(2023, date.month)[1]))"
   ]
  },
  {
   "cell_type": "code",
   "execution_count": 18,
   "id": "f27e2ff0",
   "metadata": {
    "scrolled": true
   },
   "outputs": [
    {
     "name": "stdout",
     "output_type": "stream",
     "text": [
      "time: 1.66 s (started: 2024-02-14 20:07:55 +02:00)\n"
     ]
    }
   ],
   "source": [
    "# split current 2021 year to 21-23\n",
    "df_FE['NewDate'] = df_FE['Date'].apply(change_date)"
   ]
  },
  {
   "cell_type": "code",
   "execution_count": 19,
   "id": "e410dd01",
   "metadata": {},
   "outputs": [
    {
     "name": "stdout",
     "output_type": "stream",
     "text": [
      "time: 16 ms (started: 2024-02-14 20:07:57 +02:00)\n"
     ]
    }
   ],
   "source": [
    "df_FE['NewDate'] = pd.to_datetime(df_FE['NewDate'], errors='coerce')\n"
   ]
  },
  {
   "cell_type": "code",
   "execution_count": 20,
   "id": "74bc9ef3",
   "metadata": {},
   "outputs": [
    {
     "name": "stdout",
     "output_type": "stream",
     "text": [
      "time: 15 ms (started: 2024-02-14 20:07:59 +02:00)\n"
     ]
    }
   ],
   "source": [
    "# drop all Company except 'Innovate Industries'\n",
    "df_FE = df_FE[(df_FE.Company == 'Innovate Industries')] \n",
    "\n",
    "#drop Company column\n",
    "df_FE = df_FE.drop(['Company'], axis=1)"
   ]
  },
  {
   "cell_type": "code",
   "execution_count": 21,
   "id": "2a83e74b",
   "metadata": {},
   "outputs": [
    {
     "name": "stdout",
     "output_type": "stream",
     "text": [
      "time: 16 ms (started: 2024-02-14 20:08:02 +02:00)\n"
     ]
    }
   ],
   "source": [
    "# drop Campaign_Type Influencer\n",
    "df_FE = df_FE[(df_FE.Campaign_Type != 'Influencer')]\n",
    "\n",
    "# drop Customer_Segment Foodies and Health & Wellness\n",
    "df_FE = df_FE[(df_FE.Customer_Segment != 'Foodies')]\n",
    "df_FE = df_FE[(df_FE.Customer_Segment != 'Health & Wellness')]"
   ]
  },
  {
   "cell_type": "code",
   "execution_count": 22,
   "id": "a546fbc5",
   "metadata": {},
   "outputs": [
    {
     "name": "stdout",
     "output_type": "stream",
     "text": [
      "time: 15 ms (started: 2024-02-14 20:08:04 +02:00)\n"
     ]
    }
   ],
   "source": [
    "# replace Location\n",
    "df_FE.loc[df_FE['Location'] == 'Chicago', 'Location'] = 'Germany'\n",
    "df_FE.loc[df_FE['Location'] == 'New York', 'Location'] = 'United Kingdom'\n",
    "df_FE.loc[df_FE['Location'] == 'Houston', 'Location'] = 'France'\n",
    "df_FE.loc[df_FE['Location'] == 'Miami', 'Location'] = 'Spain'\n",
    "df_FE.loc[df_FE['Location'] == 'Los Angeles', 'Location'] = 'South Africa'"
   ]
  },
  {
   "cell_type": "code",
   "execution_count": 23,
   "id": "5fd938d7",
   "metadata": {},
   "outputs": [
    {
     "name": "stdout",
     "output_type": "stream",
     "text": [
      "time: 15 ms (started: 2024-02-14 20:08:05 +02:00)\n"
     ]
    }
   ],
   "source": [
    "# replace Customer_Segment\n",
    "df_FE['Customer_Segment'] = df_FE['Customer_Segment'].astype(str)\n",
    "\n",
    "df_FE.loc[df_FE['Customer_Segment'] == 'Fashionistas', 'Customer_Segment'] = 'Clothing'\n",
    "df_FE.loc[df_FE['Customer_Segment'] == 'Outdoor Adventurers', 'Customer_Segment'] = 'Shoes'\n",
    "df_FE.loc[df_FE['Customer_Segment'] == 'Tech Enthusiasts', 'Customer_Segment'] = 'Accessories'"
   ]
  },
  {
   "cell_type": "code",
   "execution_count": 24,
   "id": "d35a76d2",
   "metadata": {},
   "outputs": [
    {
     "name": "stdout",
     "output_type": "stream",
     "text": [
      "time: 0 ns (started: 2024-02-14 20:08:06 +02:00)\n"
     ]
    }
   ],
   "source": [
    "# rename columns\n",
    "\n",
    "df_FE = df_FE.rename(columns={'Location': 'Country', \n",
    "                              'Customer_Segment': 'Product_Category',\n",
    "                              'Channel_Used' : 'Campaign_Channel',\n",
    "                              'Acquisition_Cost': 'Campaign_Cost',\n",
    "                              'ROI' : 'ROMI'})"
   ]
  },
  {
   "cell_type": "code",
   "execution_count": 25,
   "id": "c02a270d",
   "metadata": {},
   "outputs": [
    {
     "name": "stdout",
     "output_type": "stream",
     "text": [
      "time: 0 ns (started: 2024-02-14 20:08:08 +02:00)\n"
     ]
    }
   ],
   "source": [
    "def change_month(date):\n",
    "    if date.month > 6:\n",
    "          return date.replace(year=date.year, month = date.month - 6, day = random.randint(1, calendar.monthrange(date.year, date.month-6)[1]))\n",
    "\n",
    "    else: \n",
    "          return date.replace(year=date.year, month = date.month + 6, day = random.randint(1, calendar.monthrange(date.year, date.month+6)[1]))\n"
   ]
  },
  {
   "cell_type": "code",
   "execution_count": 26,
   "id": "c86724e0",
   "metadata": {},
   "outputs": [
    {
     "name": "stdout",
     "output_type": "stream",
     "text": [
      "time: 219 ms (started: 2024-02-14 20:08:18 +02:00)\n"
     ]
    }
   ],
   "source": [
    "df_FE.loc[df_FE['Country'] == 'South Africa', 'NewDate'] = df_FE['NewDate'].apply(change_month)"
   ]
  },
  {
   "cell_type": "code",
   "execution_count": 27,
   "id": "48854747",
   "metadata": {},
   "outputs": [
    {
     "name": "stdout",
     "output_type": "stream",
     "text": [
      "time: 15 ms (started: 2024-02-14 20:08:20 +02:00)\n"
     ]
    }
   ],
   "source": [
    "# split Target_Audience\n",
    "df_FE[['Target_Gender', 'Target_Age']] = df_FE['Target_Audience'].str.split(expand=True)\n",
    "df_FE.loc[df_FE['Target_Age'] == 'Ages', 'Target_Age'] = 'All'\n",
    "\n",
    "df_FE = df_FE.drop(['Target_Audience'], axis=1)"
   ]
  },
  {
   "cell_type": "code",
   "execution_count": 28,
   "id": "cbb13793",
   "metadata": {},
   "outputs": [
    {
     "name": "stdout",
     "output_type": "stream",
     "text": [
      "time: 0 ns (started: 2024-02-14 20:08:21 +02:00)\n"
     ]
    }
   ],
   "source": [
    "# add Product_ID\n",
    "random.seed(1)\n",
    "\n",
    "df_FE.loc[df_FE['Product_Category'] == 'Clothing', 'Product_ID'] = random.randint(1, 21)\n",
    "df_FE.loc[df_FE['Product_Category'] == 'Shoes', 'Product_ID'] = random.randint(22, 36)\n",
    "df_FE.loc[df_FE['Product_Category'] == 'Accessories', 'Product_ID'] = random.randint(37, 48)\n"
   ]
  },
  {
   "cell_type": "code",
   "execution_count": 29,
   "id": "d636c881",
   "metadata": {},
   "outputs": [
    {
     "name": "stdout",
     "output_type": "stream",
     "text": [
      "time: 47 ms (started: 2024-02-14 20:08:23 +02:00)\n"
     ]
    }
   ],
   "source": [
    "# add new features\n",
    "\n",
    "df_FE = df_FE.merge(df_product, on='Product_ID', how='left')\n",
    "df_FE = df_FE.merge(df_country, on='Country', how='left')\n",
    "df_FE = df_FE.merge(df_coef, on=['Country', 'Campaign_Channel'], how='left')"
   ]
  },
  {
   "cell_type": "code",
   "execution_count": 31,
   "id": "8b5f0cc8",
   "metadata": {},
   "outputs": [
    {
     "name": "stdout",
     "output_type": "stream",
     "text": [
      "time: 843 ms (started: 2024-02-14 15:20:17 +02:00)\n"
     ]
    }
   ],
   "source": [
    "# # Specify the folder path where you want to save the CSV file\n",
    "# folder_path_temp = r\"\\Users\\Oleksandr.Bielov\\Desktop\\\\Marketing_campaign\\\\\"\n",
    "\n",
    "# # Specify the file name for the CSV file\n",
    "# file_name_ = 'output_temp.csv'\n",
    "\n",
    "# # Construct the full file path\n",
    "# file_path_ = folder_path_temp + file_name_\n",
    "\n",
    "# df_FE.to_csv(file_path_, index=False)"
   ]
  },
  {
   "cell_type": "code",
   "execution_count": 258,
   "id": "0d72d3de",
   "metadata": {},
   "outputs": [
    {
     "name": "stdout",
     "output_type": "stream",
     "text": [
      "time: 78 ms (started: 2024-02-14 19:40:21 +02:00)\n"
     ]
    }
   ],
   "source": [
    "# path_temp = r\"\\Users\\Oleksandr.Bielov\\Desktop\\\\Marketing_campaign\\\\output_temp.csv\"\n",
    "\n",
    "# df_FE = pd.read_csv(path_temp)\n",
    "\n",
    "# df_FE['NewDate'] = pd.to_datetime(df_FE['NewDate'], errors='coerce')\n",
    "# df_FE['Date'] = pd.to_datetime(df_FE['Date'], errors='coerce')"
   ]
  },
  {
   "cell_type": "code",
   "execution_count": 30,
   "id": "5d132b3f",
   "metadata": {},
   "outputs": [
    {
     "name": "stdout",
     "output_type": "stream",
     "text": [
      "time: 0 ns (started: 2024-02-14 20:08:30 +02:00)\n"
     ]
    }
   ],
   "source": [
    "# add random ROMI\n",
    "np.random.seed(2020)\n",
    "# np.random.seed(12)\n",
    "\n",
    "random_values = np.arange(0.8, 3.0, 0.2)\n",
    "\n",
    "df_FE['ROMI'] = pd.DataFrame(np.random.choice(random_values, len(df_FE)))"
   ]
  },
  {
   "cell_type": "code",
   "execution_count": 31,
   "id": "46e03d3b",
   "metadata": {},
   "outputs": [
    {
     "name": "stdout",
     "output_type": "stream",
     "text": [
      "time: 0 ns (started: 2024-02-14 20:08:32 +02:00)\n"
     ]
    }
   ],
   "source": [
    "# correction value with coef\n",
    "\n",
    "df_FE['Campaign_Cost']=df_FE['Campaign_Cost']*df_FE['Campaign_cost_coef']*df_FE['GDP_coef']\n",
    "df_FE['Impressions_norm']=df_FE['Impressions_norm']*df_FE['Impressions_coef']* df_FE['Population_coef']\n",
    "df_FE['Click_norm']=df_FE['Click_norm']*df_FE['Clicks_coef']* df_FE['Population_coef']\n",
    "df_FE['Conversion_Rate']=(df_FE['Conversion_Rate']*df_FE['Conversion_coef']).round(2)\n"
   ]
  },
  {
   "cell_type": "code",
   "execution_count": 32,
   "id": "f6a16b85",
   "metadata": {},
   "outputs": [
    {
     "name": "stdout",
     "output_type": "stream",
     "text": [
      "time: 0 ns (started: 2024-02-14 20:08:35 +02:00)\n"
     ]
    }
   ],
   "source": [
    "df_FE['Campaign_Cost'] = df_FE['Campaign_Cost']/100\n",
    "\n",
    "# dif proportion for Product Category\n",
    "df_FE.loc[df_FE['Product Category'] == 'Shoes', 'Campaign_Cost'] = df_FE['Campaign_Cost']*0.6\n",
    "df_FE.loc[df_FE['Product Category'] == 'Accessories', 'Campaign_Cost'] = df_FE['Campaign_Cost']*0.8\n",
    "df_FE.loc[df_FE['Product Category'] == 'Clothing', 'Campaign_Cost'] = df_FE['Campaign_Cost']*1\n",
    "\n",
    "df_FE.loc[df_FE['Duration'] == 15, 'Campaign_Cost'] = df_FE['Campaign_Cost']*1.3\n",
    "df_FE.loc[df_FE['Duration'] == 30, 'Campaign_Cost'] = df_FE['Campaign_Cost']*1.1\n",
    "df_FE.loc[df_FE['Duration'] == 30, 'Campaign_Cost'] = df_FE['Campaign_Cost']*0.9\n",
    "df_FE.loc[df_FE['Duration'] == 60, 'Campaign_Cost'] = df_FE['Campaign_Cost']*0.7\n"
   ]
  },
  {
   "cell_type": "code",
   "execution_count": 33,
   "id": "608c5f9d",
   "metadata": {},
   "outputs": [
    {
     "name": "stdout",
     "output_type": "stream",
     "text": [
      "time: 16 ms (started: 2024-02-14 20:08:40 +02:00)\n"
     ]
    }
   ],
   "source": [
    "df_FE.loc[df_FE['NewDate'].dt.year == 2021, 'Campaign_Cost'] = df_FE['Campaign_Cost']*30\n",
    "df_FE.loc[df_FE['NewDate'].dt.year == 2022, 'Campaign_Cost'] = df_FE['Campaign_Cost']*35\n",
    "df_FE.loc[df_FE['NewDate'].dt.year == 2023, 'Campaign_Cost'] = df_FE['Campaign_Cost']*40\n",
    "\n",
    "\n",
    "df_FE.loc[df_FE['NewDate'].dt.year == 2021, 'ROMI'] = df_FE['ROMI']*1.31 #/100\n",
    "df_FE.loc[df_FE['NewDate'].dt.year == 2022, 'ROMI'] = df_FE['ROMI']*1.26 #/100\n",
    "df_FE.loc[df_FE['NewDate'].dt.year == 2023, 'ROMI'] = df_FE['ROMI']*1.18 #/100"
   ]
  },
  {
   "cell_type": "code",
   "execution_count": 34,
   "id": "6c4627f4",
   "metadata": {},
   "outputs": [
    {
     "name": "stdout",
     "output_type": "stream",
     "text": [
      "time: 16 ms (started: 2024-02-14 20:08:41 +02:00)\n"
     ]
    }
   ],
   "source": [
    "# tune Campaign_Cost for Sales scale\n",
    "df_FE.loc[(df_FE['Product Category'] == 'Clothing') & (df_FE['Country'] == 'South Africa'), 'Campaign_Cost'] = df_FE['Campaign_Cost']/3\n",
    "\n",
    "df_FE.loc[(df_FE['Product Category'] == 'Clothing') & (df_FE['Country'] == 'Germany'), 'Campaign_Cost'] = df_FE['Campaign_Cost']/4\n",
    "\n",
    "df_FE.loc[df_FE['Product Category'] == 'Clothing', 'ROMI'] = df_FE['ROMI']*0.5\n"
   ]
  },
  {
   "cell_type": "code",
   "execution_count": 35,
   "id": "aca175c5",
   "metadata": {},
   "outputs": [
    {
     "name": "stdout",
     "output_type": "stream",
     "text": [
      "time: 0 ns (started: 2024-02-14 20:08:43 +02:00)\n"
     ]
    }
   ],
   "source": [
    "# tune Campaign_Cost < 100$\n",
    "df_FE.loc[df_FE['Campaign_Cost']<100, 'Campaign_Cost'] = df_FE['Campaign_Cost']*100"
   ]
  },
  {
   "cell_type": "code",
   "execution_count": 36,
   "id": "4f748386",
   "metadata": {},
   "outputs": [
    {
     "name": "stdout",
     "output_type": "stream",
     "text": [
      "time: 16 ms (started: 2024-02-14 20:08:45 +02:00)\n"
     ]
    }
   ],
   "source": [
    "\n",
    "df_FE['Campaign_Cost'] = (df_FE['Campaign_Cost'] // 100) * 100\n",
    "df_FE['Revenue'] = (df_FE['ROMI'] + 1) * df_FE['Campaign_Cost']\n",
    "\n",
    "# add sesonality\n",
    "\n",
    "north_hemi_highmonth = [5,6,7]\n",
    "south_hemi_highmonth = [11,12,1]\n",
    "df_FE['Revenue'] = np.where((df_FE['NewDate'].dt.month.isin(north_hemi_highmonth)) & (df_FE['Country'] != 'South Africa'), df_FE['Revenue']*1.2, df_FE['Revenue'])\n",
    "df_FE['Revenue'] = np.where((df_FE['NewDate'].dt.month.isin(south_hemi_highmonth)) & (df_FE['Country'] == 'South Africa'), df_FE['Revenue']*1.2, df_FE['Revenue'])\n"
   ]
  },
  {
   "cell_type": "code",
   "execution_count": 37,
   "id": "92778f35",
   "metadata": {},
   "outputs": [
    {
     "name": "stdout",
     "output_type": "stream",
     "text": [
      "time: 0 ns (started: 2024-02-14 20:08:47 +02:00)\n"
     ]
    }
   ],
   "source": [
    "# rounded values\n",
    "# df_FE['Campaign_Cost'] = (df_FE['Campaign_Cost'] // 10) * 10\n",
    "df_FE['Click_norm'] = df_FE['Click_norm'].round(0).astype(int)\n",
    "df_FE['Impressions_norm'] = df_FE['Impressions_norm'].round(0)"
   ]
  },
  {
   "cell_type": "code",
   "execution_count": 38,
   "id": "f8bd4a18",
   "metadata": {},
   "outputs": [
    {
     "name": "stdout",
     "output_type": "stream",
     "text": [
      "time: 15 ms (started: 2024-02-14 20:08:48 +02:00)\n"
     ]
    }
   ],
   "source": [
    "# clear case when clicks > impression\n",
    "df_FE.loc[df_FE['Click_norm'] > df_FE['Impressions_norm'], 'Impressions_norm'] = df_FE['Click_norm'] \n",
    "df_FE.loc[df_FE['Click_norm'] == df_FE['Impressions_norm'], 'Impressions_norm'] = df_FE['Impressions_norm']*3\n",
    "df_FE.loc[df_FE['Click_norm'] == 0, 'Click_norm'] = df_FE['Impressions_norm']*0.3\n",
    "df_FE['Click_norm'] = df_FE['Click_norm'].round(0)\n",
    "\n",
    "# add mew metrics CTR - Click Through Rate and CPC - Cost per Click + update ROMI\n",
    "df_FE['Revenue'] = (df_FE['Revenue']//df_FE['Price (USD)'])*df_FE['Price (USD)']\n",
    "df_FE['CTR'] = df_FE['Click_norm']/df_FE['Impressions_norm']\n",
    "df_FE['CPC'] = df_FE['Campaign_Cost'] / df_FE['Click_norm']\n",
    "df_FE['ROMI'] = (df_FE['Revenue'] - df_FE['Campaign_Cost']) / df_FE['Campaign_Cost']\n"
   ]
  },
  {
   "cell_type": "code",
   "execution_count": 39,
   "id": "480f822e",
   "metadata": {},
   "outputs": [
    {
     "data": {
      "text/html": [
       "<div>\n",
       "<style scoped>\n",
       "    .dataframe tbody tr th:only-of-type {\n",
       "        vertical-align: middle;\n",
       "    }\n",
       "\n",
       "    .dataframe tbody tr th {\n",
       "        vertical-align: top;\n",
       "    }\n",
       "\n",
       "    .dataframe thead th {\n",
       "        text-align: right;\n",
       "    }\n",
       "</style>\n",
       "<table border=\"1\" class=\"dataframe\">\n",
       "  <thead>\n",
       "    <tr style=\"text-align: right;\">\n",
       "      <th></th>\n",
       "      <th>Campaign_ID</th>\n",
       "      <th>Campaign_Type</th>\n",
       "      <th>Duration</th>\n",
       "      <th>Campaign_Channel</th>\n",
       "      <th>Conversion_Rate</th>\n",
       "      <th>Campaign_Cost</th>\n",
       "      <th>ROMI</th>\n",
       "      <th>Country</th>\n",
       "      <th>Clicks</th>\n",
       "      <th>Impressions</th>\n",
       "      <th>Engagement_Score</th>\n",
       "      <th>Product_Category</th>\n",
       "      <th>Date</th>\n",
       "      <th>Click_norm</th>\n",
       "      <th>Impressions_norm</th>\n",
       "      <th>NewDate</th>\n",
       "      <th>Target_Gender</th>\n",
       "      <th>Target_Age</th>\n",
       "      <th>Product_ID</th>\n",
       "      <th>Product</th>\n",
       "      <th>Product Subcategory</th>\n",
       "      <th>Product Category</th>\n",
       "      <th>Weight (KG) per Package</th>\n",
       "      <th>Volume (M3) per Package</th>\n",
       "      <th>Price (USD)</th>\n",
       "      <th>Population</th>\n",
       "      <th>Population_coef</th>\n",
       "      <th>GDP</th>\n",
       "      <th>GDP_coef</th>\n",
       "      <th>Campaign_cost_coef</th>\n",
       "      <th>Impressions_coef</th>\n",
       "      <th>Clicks_coef</th>\n",
       "      <th>Conversion_coef</th>\n",
       "      <th>Engagement_coef</th>\n",
       "      <th>Revenue</th>\n",
       "      <th>CTR</th>\n",
       "      <th>CPC</th>\n",
       "    </tr>\n",
       "  </thead>\n",
       "  <tbody>\n",
       "    <tr>\n",
       "      <th>0</th>\n",
       "      <td>17</td>\n",
       "      <td>Display</td>\n",
       "      <td>45</td>\n",
       "      <td>Website</td>\n",
       "      <td>0.03</td>\n",
       "      <td>500.0</td>\n",
       "      <td>0.300000</td>\n",
       "      <td>France</td>\n",
       "      <td>931</td>\n",
       "      <td>2488</td>\n",
       "      <td>3</td>\n",
       "      <td>Clothing</td>\n",
       "      <td>2021-01-17</td>\n",
       "      <td>407.0</td>\n",
       "      <td>2503.0</td>\n",
       "      <td>2022-01-04</td>\n",
       "      <td>Women</td>\n",
       "      <td>35-44</td>\n",
       "      <td>5.0</td>\n",
       "      <td>Puffer Jacket</td>\n",
       "      <td>Jackets</td>\n",
       "      <td>Clothing</td>\n",
       "      <td>0.76</td>\n",
       "      <td>0.0045</td>\n",
       "      <td>130</td>\n",
       "      <td>67.75</td>\n",
       "      <td>0.83</td>\n",
       "      <td>2716</td>\n",
       "      <td>0.7</td>\n",
       "      <td>0.4</td>\n",
       "      <td>0.4</td>\n",
       "      <td>0.4</td>\n",
       "      <td>0.4</td>\n",
       "      <td>0.4</td>\n",
       "      <td>650.0</td>\n",
       "      <td>0.162605</td>\n",
       "      <td>1.228501</td>\n",
       "    </tr>\n",
       "    <tr>\n",
       "      <th>1</th>\n",
       "      <td>31</td>\n",
       "      <td>Search</td>\n",
       "      <td>45</td>\n",
       "      <td>Instagram</td>\n",
       "      <td>0.05</td>\n",
       "      <td>2000.0</td>\n",
       "      <td>2.825000</td>\n",
       "      <td>France</td>\n",
       "      <td>512</td>\n",
       "      <td>4837</td>\n",
       "      <td>4</td>\n",
       "      <td>Accessories</td>\n",
       "      <td>2021-01-31</td>\n",
       "      <td>482.0</td>\n",
       "      <td>5565.0</td>\n",
       "      <td>2023-01-24</td>\n",
       "      <td>Men</td>\n",
       "      <td>25-34</td>\n",
       "      <td>38.0</td>\n",
       "      <td>Crossbody Bag</td>\n",
       "      <td>Bags</td>\n",
       "      <td>Accessories</td>\n",
       "      <td>0.23</td>\n",
       "      <td>0.0020</td>\n",
       "      <td>45</td>\n",
       "      <td>67.75</td>\n",
       "      <td>0.83</td>\n",
       "      <td>2716</td>\n",
       "      <td>0.7</td>\n",
       "      <td>0.7</td>\n",
       "      <td>0.7</td>\n",
       "      <td>0.7</td>\n",
       "      <td>0.7</td>\n",
       "      <td>0.7</td>\n",
       "      <td>7650.0</td>\n",
       "      <td>0.086613</td>\n",
       "      <td>4.149378</td>\n",
       "    </tr>\n",
       "    <tr>\n",
       "      <th>2</th>\n",
       "      <td>39</td>\n",
       "      <td>Search</td>\n",
       "      <td>30</td>\n",
       "      <td>Instagram</td>\n",
       "      <td>0.14</td>\n",
       "      <td>4500.0</td>\n",
       "      <td>1.830000</td>\n",
       "      <td>Germany</td>\n",
       "      <td>663</td>\n",
       "      <td>9473</td>\n",
       "      <td>10</td>\n",
       "      <td>Accessories</td>\n",
       "      <td>2021-02-08</td>\n",
       "      <td>1222.0</td>\n",
       "      <td>18376.0</td>\n",
       "      <td>2021-02-01</td>\n",
       "      <td>Men</td>\n",
       "      <td>25-34</td>\n",
       "      <td>38.0</td>\n",
       "      <td>Crossbody Bag</td>\n",
       "      <td>Bags</td>\n",
       "      <td>Accessories</td>\n",
       "      <td>0.23</td>\n",
       "      <td>0.0020</td>\n",
       "      <td>45</td>\n",
       "      <td>83.20</td>\n",
       "      <td>1.00</td>\n",
       "      <td>3862</td>\n",
       "      <td>1.0</td>\n",
       "      <td>1.3</td>\n",
       "      <td>1.3</td>\n",
       "      <td>1.3</td>\n",
       "      <td>1.3</td>\n",
       "      <td>1.3</td>\n",
       "      <td>12735.0</td>\n",
       "      <td>0.066500</td>\n",
       "      <td>3.682488</td>\n",
       "    </tr>\n",
       "    <tr>\n",
       "      <th>3</th>\n",
       "      <td>40</td>\n",
       "      <td>Search</td>\n",
       "      <td>45</td>\n",
       "      <td>Google Ads</td>\n",
       "      <td>0.07</td>\n",
       "      <td>1000.0</td>\n",
       "      <td>1.210000</td>\n",
       "      <td>Germany</td>\n",
       "      <td>268</td>\n",
       "      <td>5495</td>\n",
       "      <td>6</td>\n",
       "      <td>Clothing</td>\n",
       "      <td>2021-02-09</td>\n",
       "      <td>563.0</td>\n",
       "      <td>9052.0</td>\n",
       "      <td>2021-02-21</td>\n",
       "      <td>Men</td>\n",
       "      <td>18-24</td>\n",
       "      <td>5.0</td>\n",
       "      <td>Puffer Jacket</td>\n",
       "      <td>Jackets</td>\n",
       "      <td>Clothing</td>\n",
       "      <td>0.76</td>\n",
       "      <td>0.0045</td>\n",
       "      <td>130</td>\n",
       "      <td>83.20</td>\n",
       "      <td>1.00</td>\n",
       "      <td>3862</td>\n",
       "      <td>1.0</td>\n",
       "      <td>0.9</td>\n",
       "      <td>0.9</td>\n",
       "      <td>0.9</td>\n",
       "      <td>0.9</td>\n",
       "      <td>0.9</td>\n",
       "      <td>2210.0</td>\n",
       "      <td>0.062196</td>\n",
       "      <td>1.776199</td>\n",
       "    </tr>\n",
       "    <tr>\n",
       "      <th>4</th>\n",
       "      <td>43</td>\n",
       "      <td>Display</td>\n",
       "      <td>60</td>\n",
       "      <td>Instagram</td>\n",
       "      <td>0.06</td>\n",
       "      <td>900.0</td>\n",
       "      <td>0.877778</td>\n",
       "      <td>France</td>\n",
       "      <td>598</td>\n",
       "      <td>8637</td>\n",
       "      <td>5</td>\n",
       "      <td>Clothing</td>\n",
       "      <td>2021-02-12</td>\n",
       "      <td>518.0</td>\n",
       "      <td>7407.0</td>\n",
       "      <td>2022-02-13</td>\n",
       "      <td>Men</td>\n",
       "      <td>25-34</td>\n",
       "      <td>5.0</td>\n",
       "      <td>Puffer Jacket</td>\n",
       "      <td>Jackets</td>\n",
       "      <td>Clothing</td>\n",
       "      <td>0.76</td>\n",
       "      <td>0.0045</td>\n",
       "      <td>130</td>\n",
       "      <td>67.75</td>\n",
       "      <td>0.83</td>\n",
       "      <td>2716</td>\n",
       "      <td>0.7</td>\n",
       "      <td>0.7</td>\n",
       "      <td>0.7</td>\n",
       "      <td>0.7</td>\n",
       "      <td>0.7</td>\n",
       "      <td>0.7</td>\n",
       "      <td>1690.0</td>\n",
       "      <td>0.069934</td>\n",
       "      <td>1.737452</td>\n",
       "    </tr>\n",
       "  </tbody>\n",
       "</table>\n",
       "</div>"
      ],
      "text/plain": [
       "   Campaign_ID Campaign_Type  Duration Campaign_Channel  Conversion_Rate  \\\n",
       "0           17       Display        45          Website             0.03   \n",
       "1           31        Search        45        Instagram             0.05   \n",
       "2           39        Search        30        Instagram             0.14   \n",
       "3           40        Search        45       Google Ads             0.07   \n",
       "4           43       Display        60        Instagram             0.06   \n",
       "\n",
       "   Campaign_Cost      ROMI  Country  Clicks  Impressions  Engagement_Score  \\\n",
       "0          500.0  0.300000   France     931         2488                 3   \n",
       "1         2000.0  2.825000   France     512         4837                 4   \n",
       "2         4500.0  1.830000  Germany     663         9473                10   \n",
       "3         1000.0  1.210000  Germany     268         5495                 6   \n",
       "4          900.0  0.877778   France     598         8637                 5   \n",
       "\n",
       "  Product_Category       Date  Click_norm  Impressions_norm    NewDate  \\\n",
       "0         Clothing 2021-01-17       407.0            2503.0 2022-01-04   \n",
       "1      Accessories 2021-01-31       482.0            5565.0 2023-01-24   \n",
       "2      Accessories 2021-02-08      1222.0           18376.0 2021-02-01   \n",
       "3         Clothing 2021-02-09       563.0            9052.0 2021-02-21   \n",
       "4         Clothing 2021-02-12       518.0            7407.0 2022-02-13   \n",
       "\n",
       "  Target_Gender Target_Age  Product_ID        Product Product Subcategory  \\\n",
       "0         Women      35-44         5.0  Puffer Jacket             Jackets   \n",
       "1           Men      25-34        38.0  Crossbody Bag                Bags   \n",
       "2           Men      25-34        38.0  Crossbody Bag                Bags   \n",
       "3           Men      18-24         5.0  Puffer Jacket             Jackets   \n",
       "4           Men      25-34         5.0  Puffer Jacket             Jackets   \n",
       "\n",
       "  Product Category  Weight (KG) per Package  Volume (M3) per Package  \\\n",
       "0         Clothing                     0.76                   0.0045   \n",
       "1      Accessories                     0.23                   0.0020   \n",
       "2      Accessories                     0.23                   0.0020   \n",
       "3         Clothing                     0.76                   0.0045   \n",
       "4         Clothing                     0.76                   0.0045   \n",
       "\n",
       "   Price (USD)  Population  Population_coef   GDP  GDP_coef  \\\n",
       "0          130       67.75             0.83  2716       0.7   \n",
       "1           45       67.75             0.83  2716       0.7   \n",
       "2           45       83.20             1.00  3862       1.0   \n",
       "3          130       83.20             1.00  3862       1.0   \n",
       "4          130       67.75             0.83  2716       0.7   \n",
       "\n",
       "   Campaign_cost_coef  Impressions_coef  Clicks_coef  Conversion_coef  \\\n",
       "0                 0.4               0.4          0.4              0.4   \n",
       "1                 0.7               0.7          0.7              0.7   \n",
       "2                 1.3               1.3          1.3              1.3   \n",
       "3                 0.9               0.9          0.9              0.9   \n",
       "4                 0.7               0.7          0.7              0.7   \n",
       "\n",
       "   Engagement_coef  Revenue       CTR       CPC  \n",
       "0              0.4    650.0  0.162605  1.228501  \n",
       "1              0.7   7650.0  0.086613  4.149378  \n",
       "2              1.3  12735.0  0.066500  3.682488  \n",
       "3              0.9   2210.0  0.062196  1.776199  \n",
       "4              0.7   1690.0  0.069934  1.737452  "
      ]
     },
     "execution_count": 39,
     "metadata": {},
     "output_type": "execute_result"
    },
    {
     "name": "stdout",
     "output_type": "stream",
     "text": [
      "time: 15 ms (started: 2024-02-14 20:08:51 +02:00)\n"
     ]
    }
   ],
   "source": [
    "df_FE.head(5)"
   ]
  },
  {
   "cell_type": "code",
   "execution_count": 40,
   "id": "93c8c653",
   "metadata": {},
   "outputs": [
    {
     "name": "stdout",
     "output_type": "stream",
     "text": [
      "<class 'pandas.core.frame.DataFrame'>\n",
      "Int64Index: 18904 entries, 0 to 18903\n",
      "Data columns (total 37 columns):\n",
      " #   Column                   Non-Null Count  Dtype         \n",
      "---  ------                   --------------  -----         \n",
      " 0   Campaign_ID              18904 non-null  int64         \n",
      " 1   Campaign_Type            18904 non-null  object        \n",
      " 2   Duration                 18904 non-null  int32         \n",
      " 3   Campaign_Channel         18904 non-null  object        \n",
      " 4   Conversion_Rate          18904 non-null  float64       \n",
      " 5   Campaign_Cost            18904 non-null  float64       \n",
      " 6   ROMI                     18904 non-null  float64       \n",
      " 7   Country                  18904 non-null  object        \n",
      " 8   Clicks                   18904 non-null  int64         \n",
      " 9   Impressions              18904 non-null  int64         \n",
      " 10  Engagement_Score         18904 non-null  int64         \n",
      " 11  Product_Category         18904 non-null  object        \n",
      " 12  Date                     18904 non-null  datetime64[ns]\n",
      " 13  Click_norm               18904 non-null  float64       \n",
      " 14  Impressions_norm         18904 non-null  float64       \n",
      " 15  NewDate                  18904 non-null  datetime64[ns]\n",
      " 16  Target_Gender            18904 non-null  object        \n",
      " 17  Target_Age               18904 non-null  object        \n",
      " 18  Product_ID               18904 non-null  float64       \n",
      " 19  Product                  18904 non-null  object        \n",
      " 20  Product Subcategory      18904 non-null  object        \n",
      " 21  Product Category         18904 non-null  object        \n",
      " 22  Weight (KG) per Package  18904 non-null  float64       \n",
      " 23  Volume (M3) per Package  18904 non-null  float64       \n",
      " 24  Price (USD)              18904 non-null  int64         \n",
      " 25  Population               18904 non-null  float64       \n",
      " 26  Population_coef          18904 non-null  float64       \n",
      " 27  GDP                      18904 non-null  int64         \n",
      " 28  GDP_coef                 18904 non-null  float64       \n",
      " 29  Campaign_cost_coef       18904 non-null  float64       \n",
      " 30  Impressions_coef         18904 non-null  float64       \n",
      " 31  Clicks_coef              18904 non-null  float64       \n",
      " 32  Conversion_coef          18904 non-null  float64       \n",
      " 33  Engagement_coef          18904 non-null  float64       \n",
      " 34  Revenue                  18904 non-null  float64       \n",
      " 35  CTR                      18904 non-null  float64       \n",
      " 36  CPC                      18904 non-null  float64       \n",
      "dtypes: datetime64[ns](2), float64(19), int32(1), int64(6), object(9)\n",
      "memory usage: 5.9+ MB\n",
      "time: 15 ms (started: 2024-02-14 20:08:53 +02:00)\n"
     ]
    }
   ],
   "source": [
    "df_FE.info()"
   ]
  },
  {
   "cell_type": "code",
   "execution_count": 41,
   "id": "6547c67e",
   "metadata": {},
   "outputs": [
    {
     "name": "stdout",
     "output_type": "stream",
     "text": [
      "time: 0 ns (started: 2024-02-14 20:08:58 +02:00)\n"
     ]
    }
   ],
   "source": [
    "# drop unnecessary columns\n",
    "df_FE = df_FE.drop(['Date', \n",
    "                    'Campaign_Type', \n",
    "                    'Impressions', \n",
    "                    'Clicks',\n",
    "                    'Engagement_Score',\n",
    "                    'Weight (KG) per Package',\n",
    "                    'Volume (M3) per Package',\n",
    "                    'Population_coef', \n",
    "                    'GDP_coef', \n",
    "                    'Campaign_cost_coef', \n",
    "                    'Impressions_coef', \n",
    "                    'Clicks_coef', \n",
    "                    'Conversion_coef', \n",
    "                    'Engagement_coef'], axis=1)"
   ]
  },
  {
   "cell_type": "code",
   "execution_count": 42,
   "id": "0364ea51",
   "metadata": {
    "scrolled": true
   },
   "outputs": [
    {
     "name": "stdout",
     "output_type": "stream",
     "text": [
      "time: 0 ns (started: 2024-02-14 20:09:00 +02:00)\n"
     ]
    }
   ],
   "source": [
    "df_FE = df_FE.rename(columns={'Impressions_norm': 'Impressions', \n",
    "                              'Click_norm': 'Clicks',\n",
    "                              'NewDate' : 'StartDate'})"
   ]
  },
  {
   "cell_type": "code",
   "execution_count": null,
   "id": "23a29b58",
   "metadata": {},
   "outputs": [],
   "source": []
  },
  {
   "cell_type": "code",
   "execution_count": null,
   "id": "477ed9d1",
   "metadata": {},
   "outputs": [],
   "source": []
  },
  {
   "cell_type": "code",
   "execution_count": 44,
   "id": "9af7c983",
   "metadata": {},
   "outputs": [
    {
     "name": "stdout",
     "output_type": "stream",
     "text": [
      "time: 344 ms (started: 2024-02-14 20:14:47 +02:00)\n"
     ]
    }
   ],
   "source": [
    "\n",
    "# Specify the folder path where you want to save the CSV file\n",
    "folder_path = r\"\\Users\\Oleksandr.Bielov\\Desktop\\\\Marketing_campaign\\\\\"\n",
    "\n",
    "# Specify the file name for the CSV file\n",
    "file_name = 'Marketing_Dataset.csv'\n",
    "\n",
    "# Construct the full file path\n",
    "file_path = folder_path + file_name\n",
    "\n",
    "df_FE.to_csv(file_path, index=False)"
   ]
  },
  {
   "cell_type": "code",
   "execution_count": null,
   "id": "d835cc05",
   "metadata": {},
   "outputs": [],
   "source": []
  }
 ],
 "metadata": {
  "kernelspec": {
   "display_name": "Python 3",
   "language": "python",
   "name": "python3"
  },
  "language_info": {
   "codemirror_mode": {
    "name": "ipython",
    "version": 3
   },
   "file_extension": ".py",
   "mimetype": "text/x-python",
   "name": "python",
   "nbconvert_exporter": "python",
   "pygments_lexer": "ipython3",
   "version": "3.8.8"
  }
 },
 "nbformat": 4,
 "nbformat_minor": 5
}
